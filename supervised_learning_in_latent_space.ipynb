{
 "cells": [
  {
   "cell_type": "code",
   "execution_count": 1,
   "metadata": {},
   "outputs": [],
   "source": [
    "import tensorflow as tf\n",
    "import tensorflow.keras as keras\n",
    "import tensorflow.keras.layers as layers\n",
    "from keras import backend as K\n",
    "from tensorflow.keras.optimizers import Adam\n",
    "import numpy as np"
   ]
  },
  {
   "cell_type": "code",
   "execution_count": 2,
   "metadata": {},
   "outputs": [],
   "source": [
    "(x_train, y_train), (x_test, y_test) = tf.keras.datasets.mnist.load_data(path=\"mnist.npz\")"
   ]
  },
  {
   "cell_type": "code",
   "execution_count": 3,
   "metadata": {},
   "outputs": [
    {
     "name": "stdout",
     "output_type": "stream",
     "text": [
      "((60000, 28, 28), (60000,)) ((10000, 28, 28), (10000,))\n"
     ]
    }
   ],
   "source": [
    "print((x_train.shape, y_train.shape), (x_test.shape, y_test.shape))"
   ]
  },
  {
   "cell_type": "code",
   "execution_count": 4,
   "metadata": {},
   "outputs": [
    {
     "name": "stdout",
     "output_type": "stream",
     "text": [
      "255 0\n"
     ]
    }
   ],
   "source": [
    "print(np.max(x_train[0]), np.min(x_train[0]))"
   ]
  },
  {
   "cell_type": "code",
   "execution_count": 5,
   "metadata": {},
   "outputs": [],
   "source": [
    "# copy pasted from keras blog on vae:\n",
    "\n",
    "original_dim = 28*28\n",
    "intermediate_dim = 64\n",
    "latent_dim = 8\n",
    "\n",
    "inputs = keras.Input(shape=(original_dim, ))\n",
    "h = layers.Dense(intermediate_dim, activation='elu')(inputs)\n",
    "z_mean = layers.Dense(latent_dim)(h)\n",
    "z_log_sigma = layers.Dense(latent_dim)(h)\n",
    "def sampling(args):\n",
    "    z_mean, z_log_sigma = args\n",
    "    epsilon = K.random_normal(shape=(K.shape(z_mean)[0], latent_dim),\n",
    "                              mean=0., stddev=0.1)\n",
    "    return z_mean + K.exp(z_log_sigma) * epsilon\n",
    "\n",
    "z = layers.Lambda(sampling)([z_mean, z_log_sigma])\n",
    "# Create encoder\n",
    "encoder = keras.Model(inputs, [z_mean, z_log_sigma, z], name='encoder')\n",
    "\n",
    "# Create decoder\n",
    "latent_inputs = keras.Input(shape=(latent_dim,), name='z_sampling')\n",
    "x = layers.Dense(intermediate_dim, activation='elu')(latent_inputs)\n",
    "outputs = layers.Dense(original_dim, activation='sigmoid')(x)\n",
    "decoder = keras.Model(latent_inputs, outputs, name='decoder')\n",
    "\n",
    "# instantiate VAE model\n",
    "outputs = decoder(encoder(inputs)[2])\n",
    "vae = keras.Model(inputs, outputs, name='vae_mlp')\n",
    "\n",
    "reconstruction_loss = keras.losses.binary_crossentropy(inputs, outputs)\n",
    "reconstruction_loss *= original_dim\n",
    "kl_loss = 1 + z_log_sigma - K.square(z_mean) - K.exp(z_log_sigma)\n",
    "kl_loss = K.sum(kl_loss, axis=-1)\n",
    "kl_loss *= -0.5\n",
    "vae_loss = K.mean(reconstruction_loss + kl_loss)\n",
    "vae.add_loss(vae_loss)\n",
    "vae.compile(optimizer=Adam(lr=3e-4))"
   ]
  },
  {
   "cell_type": "code",
   "execution_count": 6,
   "metadata": {},
   "outputs": [
    {
     "name": "stdout",
     "output_type": "stream",
     "text": [
      "1.0 0.0\n",
      "1.0 0.0\n"
     ]
    }
   ],
   "source": [
    "x_train = x_train.astype('float32') / 255.\n",
    "x_test = x_test.astype('float32') / 255.\n",
    "x_train = x_train.reshape((len(x_train), np.prod(x_train.shape[1:])))\n",
    "x_test = x_test.reshape((len(x_test), np.prod(x_test.shape[1:])))\n",
    "\n",
    "print(np.max(x_train[0]), np.min(x_train[0]))\n",
    "print(np.max(x_test[0]), np.min(x_test[0]))"
   ]
  },
  {
   "cell_type": "code",
   "execution_count": 7,
   "metadata": {
    "scrolled": false
   },
   "outputs": [
    {
     "name": "stdout",
     "output_type": "stream",
     "text": [
      "Epoch 1/30\n",
      "938/938 [==============================] - 4s 4ms/step - loss: 284.4667 - val_loss: 162.2935\n",
      "Epoch 2/30\n",
      "938/938 [==============================] - 3s 3ms/step - loss: 154.7668 - val_loss: 139.5061\n",
      "Epoch 3/30\n",
      "938/938 [==============================] - 3s 3ms/step - loss: 138.8308 - val_loss: 132.5625\n",
      "Epoch 4/30\n",
      "938/938 [==============================] - 3s 3ms/step - loss: 132.5064 - val_loss: 127.8345\n",
      "Epoch 5/30\n",
      "938/938 [==============================] - 3s 3ms/step - loss: 128.1873 - val_loss: 124.4163\n",
      "Epoch 6/30\n",
      "938/938 [==============================] - 3s 3ms/step - loss: 124.8609 - val_loss: 121.9618\n",
      "Epoch 7/30\n",
      "938/938 [==============================] - 3s 3ms/step - loss: 122.7622 - val_loss: 120.2170\n",
      "Epoch 8/30\n",
      "938/938 [==============================] - 3s 3ms/step - loss: 120.7707 - val_loss: 118.5202\n",
      "Epoch 9/30\n",
      "938/938 [==============================] - 3s 3ms/step - loss: 119.3699 - val_loss: 117.4659\n",
      "Epoch 10/30\n",
      "938/938 [==============================] - 3s 3ms/step - loss: 118.3799 - val_loss: 116.3327\n",
      "Epoch 11/30\n",
      "938/938 [==============================] - 3s 3ms/step - loss: 117.3654 - val_loss: 115.5337\n",
      "Epoch 12/30\n",
      "938/938 [==============================] - 3s 3ms/step - loss: 116.4691 - val_loss: 114.7262\n",
      "Epoch 13/30\n",
      "938/938 [==============================] - 3s 3ms/step - loss: 115.5759 - val_loss: 114.0351\n",
      "Epoch 14/30\n",
      "938/938 [==============================] - 3s 3ms/step - loss: 114.9517 - val_loss: 113.3185\n",
      "Epoch 15/30\n",
      "938/938 [==============================] - 3s 3ms/step - loss: 114.3292 - val_loss: 112.8099\n",
      "Epoch 16/30\n",
      "938/938 [==============================] - 3s 4ms/step - loss: 113.8213 - val_loss: 112.2520\n",
      "Epoch 17/30\n",
      "938/938 [==============================] - 3s 3ms/step - loss: 112.8556 - val_loss: 111.8317\n",
      "Epoch 18/30\n",
      "938/938 [==============================] - 3s 3ms/step - loss: 112.7869 - val_loss: 111.3544\n",
      "Epoch 19/30\n",
      "938/938 [==============================] - 3s 3ms/step - loss: 112.1683 - val_loss: 110.8493\n",
      "Epoch 20/30\n",
      "938/938 [==============================] - 5s 5ms/step - loss: 111.8682 - val_loss: 110.6325\n",
      "Epoch 21/30\n",
      "938/938 [==============================] - 5s 5ms/step - loss: 111.1762 - val_loss: 110.0374\n",
      "Epoch 22/30\n",
      "938/938 [==============================] - 5s 6ms/step - loss: 110.6937 - val_loss: 109.6028\n",
      "Epoch 23/30\n",
      "938/938 [==============================] - 5s 5ms/step - loss: 110.8472 - val_loss: 109.3015\n",
      "Epoch 24/30\n",
      "938/938 [==============================] - 4s 5ms/step - loss: 110.3269 - val_loss: 109.0503\n",
      "Epoch 25/30\n",
      "938/938 [==============================] - 4s 4ms/step - loss: 109.5994 - val_loss: 108.7328\n",
      "Epoch 26/30\n",
      "938/938 [==============================] - 4s 4ms/step - loss: 109.3491 - val_loss: 108.3812\n",
      "Epoch 27/30\n",
      "938/938 [==============================] - 3s 4ms/step - loss: 108.9081 - val_loss: 108.1234\n",
      "Epoch 28/30\n",
      "938/938 [==============================] - 4s 4ms/step - loss: 108.8321 - val_loss: 107.8508\n",
      "Epoch 29/30\n",
      "938/938 [==============================] - 4s 4ms/step - loss: 108.8593 - val_loss: 107.6454\n",
      "Epoch 30/30\n",
      "938/938 [==============================] - 4s 4ms/step - loss: 108.5559 - val_loss: 107.3611\n"
     ]
    },
    {
     "data": {
      "text/plain": [
       "<tensorflow.python.keras.callbacks.History at 0x7fc20c95a100>"
      ]
     },
     "execution_count": 7,
     "metadata": {},
     "output_type": "execute_result"
    }
   ],
   "source": [
    "vae.fit(x_train, x_train,\n",
    "        epochs=30,\n",
    "        batch_size=64,\n",
    "        validation_data=(x_test, x_test))"
   ]
  },
  {
   "cell_type": "code",
   "execution_count": 9,
   "metadata": {},
   "outputs": [
    {
     "data": {
      "image/png": "[encoded data removed]",
      "text/plain": [
       "<Figure size 432x288 with 1 Axes>"
      ]
     },
     "metadata": {
      "needs_background": "light"
     },
     "output_type": "display_data"
    },
    {
     "data": {
      "image/png": "[encoded data removed]",
      "text/plain": [
       "<Figure size 432x288 with 1 Axes>"
      ]
     },
     "metadata": {
      "needs_background": "light"
     },
     "output_type": "display_data"
    }
   ],
   "source": [
    "import matplotlib.pyplot as plt\n",
    "random_index = np.random.choice(len(x_test))\n",
    "sample = x_test[random_index]\n",
    "sample = tf.convert_to_tensor([sample])\n",
    "plt.imshow(sample.numpy().reshape(28,28))\n",
    "plt.show()\n",
    "plt.imshow(vae.predict(sample).reshape(28,28))\n",
    "plt.show()"
   ]
  },
  {
   "cell_type": "code",
   "execution_count": 10,
   "metadata": {},
   "outputs": [
    {
     "name": "stdout",
     "output_type": "stream",
     "text": [
      "[ 0.6107109  -0.5470717   0.03850114 -1.2007537   0.24098516 -0.03376316\n",
      "  0.9980599   0.13473263]\n"
     ]
    }
   ],
   "source": [
    "test = encoder.predict(sample)[-1][0]\n",
    "print(test)"
   ]
  },
  {
   "cell_type": "code",
   "execution_count": 11,
   "metadata": {},
   "outputs": [],
   "source": [
    "inp = layers.Input((latent_dim,))\n",
    "x = layers.Dense(128, activation='elu')(inp)\n",
    "x = layers.Dense(256, activation='elu')(x)\n",
    "x = layers.Dense(64, activation='elu')(x)\n",
    "out = layers.Dense(10, activation='softmax')(x)\n",
    "\n",
    "m = keras.models.Model(inp, out)\n",
    "m.compile(loss='categorical_crossentropy', optimizer=Adam(lr=1e-3), metrics=['accuracy'])"
   ]
  },
  {
   "cell_type": "code",
   "execution_count": 12,
   "metadata": {},
   "outputs": [],
   "source": [
    "x_train_ = encoder.predict(x_train)\n",
    "x_test_ = encoder.predict(x_test)\n",
    "x_train_ = x_train_[2]\n",
    "x_test_ = x_test_[2]\n",
    "x_train_ = tf.convert_to_tensor(x_train_, dtype=tf.float32)\n",
    "x_test_ = tf.convert_to_tensor(x_test_, dtype=tf.float32)"
   ]
  },
  {
   "cell_type": "code",
   "execution_count": 13,
   "metadata": {},
   "outputs": [],
   "source": [
    "y_train_ = []\n",
    "for i in range(len(y_train)):\n",
    "    a = np.zeros(10)\n",
    "    a[y_train[i]] = 1\n",
    "    y_train_.append(a)\n",
    "y_test_ = []\n",
    "for i in range(len(y_test)):\n",
    "    a = np.zeros(10)\n",
    "    a[y_test[i]] = 1\n",
    "    y_test_.append(a)"
   ]
  },
  {
   "cell_type": "code",
   "execution_count": 14,
   "metadata": {},
   "outputs": [],
   "source": [
    "y_train_ = tf.convert_to_tensor(y_train_, dtype=tf.float32)\n",
    "y_test_ = tf.convert_to_tensor(y_test_, dtype=tf.float32)"
   ]
  },
  {
   "cell_type": "code",
   "execution_count": 15,
   "metadata": {},
   "outputs": [
    {
     "name": "stdout",
     "output_type": "stream",
     "text": [
      "Epoch 1/10\n",
      "938/938 [==============================] - 2s 2ms/step - loss: 0.5996 - accuracy: 0.8115 - val_loss: 0.3042 - val_accuracy: 0.9035\n",
      "Epoch 2/10\n",
      "938/938 [==============================] - 2s 2ms/step - loss: 0.3039 - accuracy: 0.9005 - val_loss: 0.2810 - val_accuracy: 0.9106\n",
      "Epoch 3/10\n",
      "938/938 [==============================] - 2s 2ms/step - loss: 0.2759 - accuracy: 0.9094 - val_loss: 0.2753 - val_accuracy: 0.9112\n",
      "Epoch 4/10\n",
      "938/938 [==============================] - 2s 2ms/step - loss: 0.2561 - accuracy: 0.9148 - val_loss: 0.2553 - val_accuracy: 0.9170\n",
      "Epoch 5/10\n",
      "938/938 [==============================] - 2s 2ms/step - loss: 0.2488 - accuracy: 0.9173 - val_loss: 0.2542 - val_accuracy: 0.9150\n",
      "Epoch 6/10\n",
      "938/938 [==============================] - 2s 2ms/step - loss: 0.2424 - accuracy: 0.9208 - val_loss: 0.2519 - val_accuracy: 0.9170\n",
      "Epoch 7/10\n",
      "938/938 [==============================] - 2s 2ms/step - loss: 0.2368 - accuracy: 0.9205 - val_loss: 0.2416 - val_accuracy: 0.9218\n",
      "Epoch 8/10\n",
      "938/938 [==============================] - 2s 2ms/step - loss: 0.2339 - accuracy: 0.9199 - val_loss: 0.2594 - val_accuracy: 0.9131\n",
      "Epoch 9/10\n",
      "938/938 [==============================] - 2s 2ms/step - loss: 0.2312 - accuracy: 0.9227 - val_loss: 0.2467 - val_accuracy: 0.9218\n",
      "Epoch 10/10\n",
      "938/938 [==============================] - 2s 2ms/step - loss: 0.2241 - accuracy: 0.9243 - val_loss: 0.2509 - val_accuracy: 0.9192\n"
     ]
    },
    {
     "data": {
      "text/plain": [
       "<tensorflow.python.keras.callbacks.History at 0x7fc1fcc07430>"
      ]
     },
     "execution_count": 15,
     "metadata": {},
     "output_type": "execute_result"
    }
   ],
   "source": [
    "m.fit(x_train_, y_train_, epochs=10, validation_data=(x_test_, y_test_), batch_size=64)"
   ]
  },
  {
   "cell_type": "code",
   "execution_count": 16,
   "metadata": {},
   "outputs": [
    {
     "data": {
      "image/png": "[encoded data removed]",
      "text/plain": [
       "<Figure size 432x288 with 1 Axes>"
      ]
     },
     "metadata": {
      "needs_background": "light"
     },
     "output_type": "display_data"
    },
    {
     "data": {
      "image/png": "[encoded data removed]",
      "text/plain": [
       "<Figure size 432x288 with 1 Axes>"
      ]
     },
     "metadata": {
      "needs_background": "light"
     },
     "output_type": "display_data"
    }
   ],
   "source": [
    "random_index = np.random.choice(len(x_test))\n",
    "sample = x_test[random_index]\n",
    "sample = tf.convert_to_tensor([sample])\n",
    "plt.imshow(sample.numpy().reshape(28,28), 'gray')\n",
    "plt.show()\n",
    "plt.imshow(vae.predict(sample).reshape(28,28), 'gray')\n",
    "plt.show()"
   ]
  },
  {
   "cell_type": "code",
   "execution_count": 17,
   "metadata": {},
   "outputs": [],
   "source": [
    "test = encoder.predict(sample)[-1][0]"
   ]
  },
  {
   "cell_type": "code",
   "execution_count": 18,
   "metadata": {},
   "outputs": [
    {
     "name": "stdout",
     "output_type": "stream",
     "text": [
      "[6.6983312e-06 1.1035427e-05 1.4824808e-06 8.4419080e-06 1.4386990e-04\n",
      " 1.0729709e-05 9.9981624e-01 1.0292011e-08 1.6027834e-06 8.7159224e-10]\n",
      "6\n"
     ]
    }
   ],
   "source": [
    "pred = m.predict(tf.convert_to_tensor([test], dtype=tf.float32))[0]\n",
    "print(pred)\n",
    "print(np.argmax(pred))"
   ]
  },
  {
   "cell_type": "code",
   "execution_count": 19,
   "metadata": {},
   "outputs": [
    {
     "data": {
      "image/png": "[encoded data removed]",
      "text/plain": [
       "<Figure size 432x288 with 1 Axes>"
      ]
     },
     "metadata": {
      "needs_background": "light"
     },
     "output_type": "display_data"
    },
    {
     "name": "stdout",
     "output_type": "stream",
     "text": [
      "[8.29981491e-06 1.03066841e-05 2.19082085e-06 1.37736497e-05\n",
      " 1.40367745e-04 2.28624085e-05 9.99800265e-01 1.18256835e-08\n",
      " 2.07045287e-06 9.37266931e-10]\n",
      "6\n"
     ]
    }
   ],
   "source": [
    "# predictions with converted samples are consistent\n",
    "inverted_sample = []\n",
    "for i in range(len(sample)):\n",
    "    for j in range(len(sample[i])):\n",
    "        inverted_sample.append(0 + (1-sample[i][j]))\n",
    "inverted_sample = np.array(inverted_sample)\n",
    "plt.imshow(inverted_sample.reshape(28,28), 'gray')\n",
    "plt.show()\n",
    "test = encoder.predict(sample)[-1][0]\n",
    "pred = m.predict(tf.convert_to_tensor([test], dtype=tf.float32))[0]\n",
    "print(pred)\n",
    "print(np.argmax(pred))"
   ]
  }
 ],
 "metadata": {
  "kernelspec": {
   "display_name": "Python 3",
   "language": "python",
   "name": "python3"
  },
  "language_info": {
   "codemirror_mode": {
    "name": "ipython",
    "version": 3
   },
   "file_extension": ".py",
   "mimetype": "text/x-python",
   "name": "python",
   "nbconvert_exporter": "python",
   "pygments_lexer": "ipython3",
   "version": "3.8.5"
  }
 },
 "nbformat": 4,
 "nbformat_minor": 4
}
